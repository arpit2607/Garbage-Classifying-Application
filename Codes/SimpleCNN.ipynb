{
  "cells": [
    {
      "cell_type": "code",
      "source": [
        "from google.colab import drive\n",
        "drive.mount('/content/drive')"
      ],
      "metadata": {
        "colab": {
          "base_uri": "https://localhost:8080/"
        },
        "id": "bAy2Dcd_mGzG",
        "outputId": "4e65a292-1b96-489f-e68a-e9b5dff9c3c6"
      },
      "execution_count": 1,
      "outputs": [
        {
          "output_type": "stream",
          "name": "stdout",
          "text": [
            "Drive already mounted at /content/drive; to attempt to forcibly remount, call drive.mount(\"/content/drive\", force_remount=True).\n"
          ]
        }
      ]
    },
    {
      "cell_type": "code",
      "execution_count": 2,
      "metadata": {
        "id": "Hh41-yEFl8ce"
      },
      "outputs": [],
      "source": [
        "import tensorflow as tf\n",
        "from tensorflow.keras.models import Sequential\n",
        "from tensorflow.keras.layers import Dense, Dropout, Activation, Flatten, Conv2D, MaxPooling2D\n",
        "import time\n",
        "from tensorflow.keras.callbacks import TensorBoard\n",
        "from keras.preprocessing import image\n",
        "from keras.preprocessing.image import ImageDataGenerator"
      ]
    },
    {
      "cell_type": "code",
      "execution_count": 3,
      "metadata": {
        "colab": {
          "base_uri": "https://localhost:8080/"
        },
        "id": "ljocg3k6l8cj",
        "outputId": "7017a959-79ff-49a3-daca-31376439ff87"
      },
      "outputs": [
        {
          "output_type": "stream",
          "name": "stdout",
          "text": [
            "Found 2454 images belonging to 2 classes.\n",
            "Found 490 images belonging to 2 classes.\n"
          ]
        }
      ],
      "source": [
        "train_path = 'drive/MyDrive/spot'\n",
        "valid_path = 'drive/MyDrive/spot'\n",
        "\n",
        "train_datagen = ImageDataGenerator(rescale = 1./255,\n",
        "                                   shear_range = 0.2,\n",
        "                                   zoom_range = 0.2,\n",
        "                                   horizontal_flip = True)\n",
        "test_datagen = ImageDataGenerator(rescale = 1./255,validation_split=0.2)\n",
        "training_set = train_datagen.flow_from_directory(train_path,\n",
        "                                                 target_size = (64, 64),\n",
        "                                                 batch_size = 32,\n",
        "                                                 classes = ['Garbage','Non-Garbage'],subset='training')\n",
        "test_set = test_datagen.flow_from_directory(valid_path,\n",
        "                                            target_size = (64, 64),\n",
        "                                            batch_size = 32,\n",
        "                                            classes = ['Garbage','Non-Garbage'],subset='validation')"
      ]
    },
    {
      "cell_type": "code",
      "execution_count": 4,
      "metadata": {
        "id": "hMlGNLHpl8cl"
      },
      "outputs": [],
      "source": [
        "model = Sequential()\n",
        "\n",
        "model.add(Conv2D(filters=32, kernel_size=3, activation='relu', input_shape=[64, 64, 3]))\n",
        "model.add(Activation('relu'))\n",
        "model.add(MaxPooling2D(pool_size = (2, 2)))\n",
        "\n",
        "model.add(Conv2D(64, (3, 3))) \n",
        "model.add(Activation('relu'))\n",
        "model.add(MaxPooling2D(pool_size = (2, 2)))\n",
        "\n",
        "model.add(Flatten())\n",
        "\n",
        "model.add(Dense(128))\n",
        "model.add(Activation('relu'))\n",
        "\n",
        "model.add(Dense(32))\n",
        "model.add(Activation('relu'))\n",
        "\n",
        "model.add(Dense(2))\n",
        "model.add(Activation('sigmoid'))"
      ]
    },
    {
      "cell_type": "code",
      "execution_count": 5,
      "metadata": {
        "colab": {
          "base_uri": "https://localhost:8080/"
        },
        "id": "PrO_Oxx7l8cm",
        "outputId": "065b28f8-ecaf-4932-81f0-e561a22663da"
      },
      "outputs": [
        {
          "output_type": "stream",
          "name": "stdout",
          "text": [
            "Model: \"sequential\"\n",
            "_________________________________________________________________\n",
            " Layer (type)                Output Shape              Param #   \n",
            "=================================================================\n",
            " conv2d (Conv2D)             (None, 62, 62, 32)        896       \n",
            "                                                                 \n",
            " activation (Activation)     (None, 62, 62, 32)        0         \n",
            "                                                                 \n",
            " max_pooling2d (MaxPooling2D  (None, 31, 31, 32)       0         \n",
            " )                                                               \n",
            "                                                                 \n",
            " conv2d_1 (Conv2D)           (None, 29, 29, 64)        18496     \n",
            "                                                                 \n",
            " activation_1 (Activation)   (None, 29, 29, 64)        0         \n",
            "                                                                 \n",
            " max_pooling2d_1 (MaxPooling  (None, 14, 14, 64)       0         \n",
            " 2D)                                                             \n",
            "                                                                 \n",
            " flatten (Flatten)           (None, 12544)             0         \n",
            "                                                                 \n",
            " dense (Dense)               (None, 128)               1605760   \n",
            "                                                                 \n",
            " activation_2 (Activation)   (None, 128)               0         \n",
            "                                                                 \n",
            " dense_1 (Dense)             (None, 32)                4128      \n",
            "                                                                 \n",
            " activation_3 (Activation)   (None, 32)                0         \n",
            "                                                                 \n",
            " dense_2 (Dense)             (None, 2)                 66        \n",
            "                                                                 \n",
            " activation_4 (Activation)   (None, 2)                 0         \n",
            "                                                                 \n",
            "=================================================================\n",
            "Total params: 1,629,346\n",
            "Trainable params: 1,629,346\n",
            "Non-trainable params: 0\n",
            "_________________________________________________________________\n"
          ]
        }
      ],
      "source": [
        "model.summary()"
      ]
    },
    {
      "cell_type": "code",
      "execution_count": 6,
      "metadata": {
        "id": "0jgX5hCEl8cm"
      },
      "outputs": [],
      "source": [
        "model.compile(loss = 'binary_crossentropy', optimizer = 'adam', metrics = ['accuracy'])"
      ]
    },
    {
      "cell_type": "code",
      "execution_count": 7,
      "metadata": {
        "colab": {
          "base_uri": "https://localhost:8080/"
        },
        "id": "10RKux0Xl8cn",
        "outputId": "283537af-9b31-40ec-d3db-5d59ff382e22"
      },
      "outputs": [
        {
          "output_type": "stream",
          "name": "stdout",
          "text": [
            "Epoch 1/25\n",
            "77/77 - 106s - loss: 0.6327 - accuracy: 0.6275 - val_loss: 0.5915 - val_accuracy: 0.6367 - 106s/epoch - 1s/step\n",
            "Epoch 2/25\n",
            "77/77 - 92s - loss: 0.5671 - accuracy: 0.6830 - val_loss: 0.5686 - val_accuracy: 0.7122 - 92s/epoch - 1s/step\n",
            "Epoch 3/25\n",
            "77/77 - 94s - loss: 0.5471 - accuracy: 0.7156 - val_loss: 0.5838 - val_accuracy: 0.6714 - 94s/epoch - 1s/step\n",
            "Epoch 4/25\n",
            "77/77 - 92s - loss: 0.5111 - accuracy: 0.7543 - val_loss: 0.4979 - val_accuracy: 0.7735 - 92s/epoch - 1s/step\n",
            "Epoch 5/25\n",
            "77/77 - 94s - loss: 0.4951 - accuracy: 0.7567 - val_loss: 0.5504 - val_accuracy: 0.7082 - 94s/epoch - 1s/step\n",
            "Epoch 6/25\n",
            "77/77 - 91s - loss: 0.4796 - accuracy: 0.7596 - val_loss: 0.4763 - val_accuracy: 0.7592 - 91s/epoch - 1s/step\n",
            "Epoch 7/25\n",
            "77/77 - 89s - loss: 0.4646 - accuracy: 0.7730 - val_loss: 0.4738 - val_accuracy: 0.7510 - 89s/epoch - 1s/step\n",
            "Epoch 8/25\n",
            "77/77 - 95s - loss: 0.4392 - accuracy: 0.7910 - val_loss: 0.4206 - val_accuracy: 0.7939 - 95s/epoch - 1s/step\n",
            "Epoch 9/25\n",
            "77/77 - 90s - loss: 0.4266 - accuracy: 0.7975 - val_loss: 0.4325 - val_accuracy: 0.7837 - 90s/epoch - 1s/step\n",
            "Epoch 10/25\n",
            "77/77 - 91s - loss: 0.4165 - accuracy: 0.7963 - val_loss: 0.5140 - val_accuracy: 0.7531 - 91s/epoch - 1s/step\n",
            "Epoch 11/25\n",
            "77/77 - 90s - loss: 0.3976 - accuracy: 0.8150 - val_loss: 0.4328 - val_accuracy: 0.8061 - 90s/epoch - 1s/step\n",
            "Epoch 12/25\n",
            "77/77 - 96s - loss: 0.3819 - accuracy: 0.8264 - val_loss: 0.3953 - val_accuracy: 0.8102 - 96s/epoch - 1s/step\n",
            "Epoch 13/25\n",
            "77/77 - 90s - loss: 0.3661 - accuracy: 0.8325 - val_loss: 0.3280 - val_accuracy: 0.8551 - 90s/epoch - 1s/step\n",
            "Epoch 14/25\n",
            "77/77 - 91s - loss: 0.3460 - accuracy: 0.8427 - val_loss: 0.3705 - val_accuracy: 0.8429 - 91s/epoch - 1s/step\n",
            "Epoch 15/25\n",
            "77/77 - 92s - loss: 0.3237 - accuracy: 0.8529 - val_loss: 0.3676 - val_accuracy: 0.8122 - 92s/epoch - 1s/step\n",
            "Epoch 16/25\n",
            "77/77 - 92s - loss: 0.3110 - accuracy: 0.8582 - val_loss: 0.4399 - val_accuracy: 0.8245 - 92s/epoch - 1s/step\n",
            "Epoch 17/25\n",
            "77/77 - 91s - loss: 0.2877 - accuracy: 0.8737 - val_loss: 0.3704 - val_accuracy: 0.8347 - 91s/epoch - 1s/step\n",
            "Epoch 18/25\n",
            "77/77 - 95s - loss: 0.3047 - accuracy: 0.8663 - val_loss: 0.3070 - val_accuracy: 0.8571 - 95s/epoch - 1s/step\n",
            "Epoch 19/25\n",
            "77/77 - 90s - loss: 0.2830 - accuracy: 0.8822 - val_loss: 0.2883 - val_accuracy: 0.8755 - 90s/epoch - 1s/step\n",
            "Epoch 20/25\n",
            "77/77 - 94s - loss: 0.2384 - accuracy: 0.8993 - val_loss: 0.2240 - val_accuracy: 0.9082 - 94s/epoch - 1s/step\n",
            "Epoch 21/25\n",
            "77/77 - 91s - loss: 0.2228 - accuracy: 0.9112 - val_loss: 0.2056 - val_accuracy: 0.9102 - 91s/epoch - 1s/step\n",
            "Epoch 22/25\n",
            "77/77 - 93s - loss: 0.2142 - accuracy: 0.9148 - val_loss: 0.2207 - val_accuracy: 0.9143 - 93s/epoch - 1s/step\n",
            "Epoch 23/25\n",
            "77/77 - 91s - loss: 0.2203 - accuracy: 0.9091 - val_loss: 0.1699 - val_accuracy: 0.9327 - 91s/epoch - 1s/step\n",
            "Epoch 24/25\n",
            "77/77 - 93s - loss: 0.1856 - accuracy: 0.9262 - val_loss: 0.1648 - val_accuracy: 0.9286 - 93s/epoch - 1s/step\n",
            "Epoch 25/25\n",
            "77/77 - 91s - loss: 0.1714 - accuracy: 0.9324 - val_loss: 0.2113 - val_accuracy: 0.9061 - 91s/epoch - 1s/step\n"
          ]
        }
      ],
      "source": [
        "model_details=model.fit(x=training_set, validation_data=test_set, batch_size = 32, epochs = 25, verbose = 2,steps_per_epoch=len(training_set),validation_steps=len(test_set))"
      ]
    },
    {
      "cell_type": "code",
      "execution_count": 8,
      "metadata": {
        "id": "5b_kM97yl8cn"
      },
      "outputs": [],
      "source": [
        "loss = model_details.history['loss']\n",
        "validation_loss = model_details.history['val_loss']"
      ]
    },
    {
      "cell_type": "code",
      "execution_count": 9,
      "metadata": {
        "id": "Sdzi4U3el8co"
      },
      "outputs": [],
      "source": [
        "accuracy = model_details.history['accuracy']\n",
        "validation_accuracy = model_details.history['val_accuracy']"
      ]
    },
    {
      "cell_type": "code",
      "execution_count": 10,
      "metadata": {
        "id": "6IxUzKgQl8co"
      },
      "outputs": [],
      "source": [
        "import matplotlib.pyplot as plt\n",
        "%matplotlib inline"
      ]
    },
    {
      "cell_type": "code",
      "execution_count": 11,
      "metadata": {
        "id": "QHvuGU7Al8cp",
        "colab": {
          "base_uri": "https://localhost:8080/",
          "height": 405
        },
        "outputId": "2473615e-300c-4339-82d6-9c6dac86269a"
      },
      "outputs": [
        {
          "output_type": "execute_result",
          "data": {
            "text/plain": [
              "<matplotlib.legend.Legend at 0x7f9ce04b2d30>"
            ]
          },
          "metadata": {},
          "execution_count": 11
        },
        {
          "output_type": "display_data",
          "data": {
            "text/plain": [
              "<Figure size 720x432 with 1 Axes>"
            ],
            "image/png": "[encoded data removed]"
          },
          "metadata": {
            "needs_background": "light"
          }
        }
      ],
      "source": [
        "# plot the training and validation losses\n",
        "epochs = range(1, len(loss)+1)\n",
        "\n",
        "fig1 = plt.figure(figsize=(10,6))\n",
        "plt.plot(epochs,loss,c=\"red\",label=\"Training\")\n",
        "plt.plot(epochs,validation_loss,c=\"blue\",label=\"Validation\")\n",
        "plt.xlabel(\"Epochs\")\n",
        "plt.ylabel(\"Loss\")\n",
        "plt.xticks(epochs)\n",
        "plt.legend()"
      ]
    },
    {
      "cell_type": "code",
      "execution_count": 12,
      "metadata": {
        "id": "1mQE7skGl8cq",
        "colab": {
          "base_uri": "https://localhost:8080/",
          "height": 405
        },
        "outputId": "1a455437-fef0-4493-a66b-acc35fec0fd3"
      },
      "outputs": [
        {
          "output_type": "execute_result",
          "data": {
            "text/plain": [
              "<matplotlib.legend.Legend at 0x7f9ce00e93a0>"
            ]
          },
          "metadata": {},
          "execution_count": 12
        },
        {
          "output_type": "display_data",
          "data": {
            "text/plain": [
              "<Figure size 720x432 with 1 Axes>"
            ],
            "image/png": "[encoded data removed]"
          },
          "metadata": {
            "needs_background": "light"
          }
        }
      ],
      "source": [
        "# plot the training and validation accuracy\n",
        "epochs = range(1, len(accuracy)+1)\n",
        "\n",
        "fig2 = plt.figure(figsize=(10,6))\n",
        "plt.plot(epochs,accuracy,c=\"red\",label=\"Training\")\n",
        "plt.plot(epochs,validation_accuracy,c=\"blue\",label=\"Validation\")\n",
        "plt.xlabel(\"Epochs\")\n",
        "plt.ylabel(\"Accuracy\")\n",
        "plt.xticks(epochs)\n",
        "plt.legend()"
      ]
    },
    {
      "cell_type": "code",
      "source": [
        "tf_lite_converter = tf.lite.TFLiteConverter.from_keras_model(model)\n",
        "tflite_model = tf_lite_converter.convert()\n",
        "open(\"simplecnn_dump.tflite\", 'wb').write(tflite_model)"
      ],
      "metadata": {
        "colab": {
          "base_uri": "https://localhost:8080/"
        },
        "id": "_H7ZChHp6AbM",
        "outputId": "877f868b-68d0-44ba-b7e0-61b5e0aea5d2"
      },
      "execution_count": 13,
      "outputs": [
        {
          "output_type": "stream",
          "name": "stderr",
          "text": [
            "WARNING:absl:Found untraced functions such as _jit_compiled_convolution_op, _jit_compiled_convolution_op while saving (showing 2 of 2). These functions will not be directly callable after loading.\n"
          ]
        },
        {
          "output_type": "execute_result",
          "data": {
            "text/plain": [
              "6521096"
            ]
          },
          "metadata": {},
          "execution_count": 13
        }
      ]
    }
  ],
  "metadata": {
    "kernelspec": {
      "display_name": "Python 3 (ipykernel)",
      "language": "python",
      "name": "python3"
    },
    "language_info": {
      "codemirror_mode": {
        "name": "ipython",
        "version": 3
      },
      "file_extension": ".py",
      "mimetype": "text/x-python",
      "name": "python",
      "nbconvert_exporter": "python",
      "pygments_lexer": "ipython3",
      "version": "3.9.13"
    },
    "colab": {
      "provenance": []
    },
    "accelerator": "GPU",
    "gpuClass": "standard"
  },
  "nbformat": 4,
  "nbformat_minor": 0
}