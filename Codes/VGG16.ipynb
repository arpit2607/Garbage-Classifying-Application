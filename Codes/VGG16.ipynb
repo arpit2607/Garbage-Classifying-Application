{
  "cells": [
    {
      "cell_type": "code",
      "source": [
        "from google.colab import drive\n",
        "drive.mount('/content/drive')"
      ],
      "metadata": {
        "colab": {
          "base_uri": "https://localhost:8080/"
        },
        "id": "URTalx4_6mbM",
        "outputId": "4dbb43f1-8fca-4cc7-cd70-59046af323f1"
      },
      "execution_count": null,
      "outputs": [
        {
          "output_type": "stream",
          "name": "stdout",
          "text": [
            "Drive already mounted at /content/drive; to attempt to forcibly remount, call drive.mount(\"/content/drive\", force_remount=True).\n"
          ]
        }
      ]
    },
    {
      "cell_type": "code",
      "execution_count": null,
      "metadata": {
        "id": "LdxhDMURDdlF"
      },
      "outputs": [],
      "source": [
        "import tensorflow as tf\n",
        "from tensorflow.keras.models import Sequential\n",
        "from tensorflow.keras.layers import Dense, Dropout, Activation, Flatten, Conv2D, MaxPooling2D, BatchNormalization\n",
        "import pickle\n",
        "import time\n",
        "from tensorflow.keras.callbacks import TensorBoard"
      ]
    },
    {
      "cell_type": "code",
      "execution_count": null,
      "metadata": {
        "id": "dW2IbkWZDdlL"
      },
      "outputs": [],
      "source": [
        "from keras.layers import Input, Lambda, Dense, Flatten\n",
        "from keras.models import Model\n",
        "from keras.applications.vgg16 import VGG16\n",
        "from keras.applications.vgg16 import preprocess_input\n",
        "from keras.preprocessing import image\n",
        "from keras.preprocessing.image import ImageDataGenerator\n",
        "from keras.models import Sequential\n",
        "import numpy as np"
      ]
    },
    {
      "cell_type": "code",
      "execution_count": null,
      "metadata": {
        "id": "qni-Z6NlDdlM",
        "outputId": "4d65d63a-7317-4faa-b173-c038cc338aa1",
        "colab": {
          "base_uri": "https://localhost:8080/"
        }
      },
      "outputs": [
        {
          "output_type": "stream",
          "name": "stdout",
          "text": [
            "Model: \"vgg16\"\n",
            "_________________________________________________________________\n",
            " Layer (type)                Output Shape              Param #   \n",
            "=================================================================\n",
            " input_2 (InputLayer)        [(None, 128, 128, 3)]     0         \n",
            "                                                                 \n",
            " block1_conv1 (Conv2D)       (None, 128, 128, 64)      1792      \n",
            "                                                                 \n",
            " block1_conv2 (Conv2D)       (None, 128, 128, 64)      36928     \n",
            "                                                                 \n",
            " block1_pool (MaxPooling2D)  (None, 64, 64, 64)        0         \n",
            "                                                                 \n",
            " block2_conv1 (Conv2D)       (None, 64, 64, 128)       73856     \n",
            "                                                                 \n",
            " block2_conv2 (Conv2D)       (None, 64, 64, 128)       147584    \n",
            "                                                                 \n",
            " block2_pool (MaxPooling2D)  (None, 32, 32, 128)       0         \n",
            "                                                                 \n",
            " block3_conv1 (Conv2D)       (None, 32, 32, 256)       295168    \n",
            "                                                                 \n",
            " block3_conv2 (Conv2D)       (None, 32, 32, 256)       590080    \n",
            "                                                                 \n",
            " block3_conv3 (Conv2D)       (None, 32, 32, 256)       590080    \n",
            "                                                                 \n",
            " block3_pool (MaxPooling2D)  (None, 16, 16, 256)       0         \n",
            "                                                                 \n",
            " block4_conv1 (Conv2D)       (None, 16, 16, 512)       1180160   \n",
            "                                                                 \n",
            " block4_conv2 (Conv2D)       (None, 16, 16, 512)       2359808   \n",
            "                                                                 \n",
            " block4_conv3 (Conv2D)       (None, 16, 16, 512)       2359808   \n",
            "                                                                 \n",
            " block4_pool (MaxPooling2D)  (None, 8, 8, 512)         0         \n",
            "                                                                 \n",
            " block5_conv1 (Conv2D)       (None, 8, 8, 512)         2359808   \n",
            "                                                                 \n",
            " block5_conv2 (Conv2D)       (None, 8, 8, 512)         2359808   \n",
            "                                                                 \n",
            " block5_conv3 (Conv2D)       (None, 8, 8, 512)         2359808   \n",
            "                                                                 \n",
            " block5_pool (MaxPooling2D)  (None, 4, 4, 512)         0         \n",
            "                                                                 \n",
            "=================================================================\n",
            "Total params: 14,714,688\n",
            "Trainable params: 14,714,688\n",
            "Non-trainable params: 0\n",
            "_________________________________________________________________\n"
          ]
        }
      ],
      "source": [
        "IMAGE_SIZE = [128, 128]\n",
        "vgg = VGG16(input_shape=IMAGE_SIZE + [3], weights='imagenet', include_top=False)\n",
        "vgg.summary()"
      ]
    },
    {
      "cell_type": "code",
      "execution_count": null,
      "metadata": {
        "id": "FurS2XiQDdlN"
      },
      "outputs": [],
      "source": [
        "for layer in vgg.layers:\n",
        "  layer.trainable = False"
      ]
    },
    {
      "cell_type": "code",
      "execution_count": null,
      "metadata": {
        "id": "lFGrZ30eDdlO",
        "outputId": "b0166664-388a-4d18-a1f7-cd99c67278d9",
        "colab": {
          "base_uri": "https://localhost:8080/"
        }
      },
      "outputs": [
        {
          "output_type": "stream",
          "name": "stdout",
          "text": [
            "Model: \"model_1\"\n",
            "_________________________________________________________________\n",
            " Layer (type)                Output Shape              Param #   \n",
            "=================================================================\n",
            " input_2 (InputLayer)        [(None, 128, 128, 3)]     0         \n",
            "                                                                 \n",
            " block1_conv1 (Conv2D)       (None, 128, 128, 64)      1792      \n",
            "                                                                 \n",
            " block1_conv2 (Conv2D)       (None, 128, 128, 64)      36928     \n",
            "                                                                 \n",
            " block1_pool (MaxPooling2D)  (None, 64, 64, 64)        0         \n",
            "                                                                 \n",
            " block2_conv1 (Conv2D)       (None, 64, 64, 128)       73856     \n",
            "                                                                 \n",
            " block2_conv2 (Conv2D)       (None, 64, 64, 128)       147584    \n",
            "                                                                 \n",
            " block2_pool (MaxPooling2D)  (None, 32, 32, 128)       0         \n",
            "                                                                 \n",
            " block3_conv1 (Conv2D)       (None, 32, 32, 256)       295168    \n",
            "                                                                 \n",
            " block3_conv2 (Conv2D)       (None, 32, 32, 256)       590080    \n",
            "                                                                 \n",
            " block3_conv3 (Conv2D)       (None, 32, 32, 256)       590080    \n",
            "                                                                 \n",
            " block3_pool (MaxPooling2D)  (None, 16, 16, 256)       0         \n",
            "                                                                 \n",
            " block4_conv1 (Conv2D)       (None, 16, 16, 512)       1180160   \n",
            "                                                                 \n",
            " block4_conv2 (Conv2D)       (None, 16, 16, 512)       2359808   \n",
            "                                                                 \n",
            " block4_conv3 (Conv2D)       (None, 16, 16, 512)       2359808   \n",
            "                                                                 \n",
            " block4_pool (MaxPooling2D)  (None, 8, 8, 512)         0         \n",
            "                                                                 \n",
            " block5_conv1 (Conv2D)       (None, 8, 8, 512)         2359808   \n",
            "                                                                 \n",
            " block5_conv2 (Conv2D)       (None, 8, 8, 512)         2359808   \n",
            "                                                                 \n",
            " block5_conv3 (Conv2D)       (None, 8, 8, 512)         2359808   \n",
            "                                                                 \n",
            " block5_pool (MaxPooling2D)  (None, 4, 4, 512)         0         \n",
            "                                                                 \n",
            " flatten_1 (Flatten)         (None, 8192)              0         \n",
            "                                                                 \n",
            " dense_1 (Dense)             (None, 1)                 8193      \n",
            "                                                                 \n",
            "=================================================================\n",
            "Total params: 14,722,881\n",
            "Trainable params: 8,193\n",
            "Non-trainable params: 14,714,688\n",
            "_________________________________________________________________\n"
          ]
        }
      ],
      "source": [
        "x = Flatten()(vgg.output)\n",
        "prediction = Dense(1, activation='sigmoid')(x)\n",
        "model = Model(inputs=vgg.input, outputs=prediction)\n",
        "model.summary()"
      ]
    },
    {
      "cell_type": "code",
      "execution_count": null,
      "metadata": {
        "id": "zmTbmskpDdlP"
      },
      "outputs": [],
      "source": [
        "model.compile(\n",
        "  loss='binary_crossentropy',\n",
        "  optimizer='adam',\n",
        "  metrics=['accuracy']\n",
        ")"
      ]
    },
    {
      "cell_type": "code",
      "execution_count": null,
      "metadata": {
        "id": "ljeoSasCDdlP",
        "outputId": "11219ebd-dbdc-42a8-868f-1d5233c043c3",
        "colab": {
          "base_uri": "https://localhost:8080/"
        }
      },
      "outputs": [
        {
          "output_type": "stream",
          "name": "stdout",
          "text": [
            "Found 2454 images belonging to 2 classes.\n",
            "Found 490 images belonging to 2 classes.\n"
          ]
        }
      ],
      "source": [
        "train_path = 'drive/MyDrive/spot'\n",
        "valid_path = 'drive/MyDrive/spot'\n",
        "\n",
        "train_datagen = ImageDataGenerator(rescale = 1./255,\n",
        "                                   shear_range = 0.2,\n",
        "                                   zoom_range = 0.2,\n",
        "                                   horizontal_flip = True)\n",
        "test_datagen = ImageDataGenerator(rescale = 1./255,validation_split=0.2)\n",
        "training_set = train_datagen.flow_from_directory(train_path,\n",
        "                                                 target_size = (128, 128),\n",
        "                                                 batch_size = 16,\n",
        "                                                 class_mode = 'binary',subset='training')\n",
        "test_set = test_datagen.flow_from_directory(valid_path,\n",
        "                                            target_size = (128, 128),\n",
        "                                            batch_size = 16,\n",
        "                                            class_mode = 'binary',subset='validation')"
      ]
    },
    {
      "cell_type": "code",
      "execution_count": null,
      "metadata": {
        "id": "HxWW3kAYDdlR",
        "outputId": "4225358b-ab2b-4e9f-8223-f1bbb867aa1a",
        "colab": {
          "base_uri": "https://localhost:8080/"
        }
      },
      "outputs": [
        {
          "output_type": "stream",
          "name": "stdout",
          "text": [
            "Epoch 1/25\n",
            "154/154 - 116s - loss: 0.4106 - accuracy: 0.8089 - val_loss: 0.3454 - val_accuracy: 0.8286 - 116s/epoch - 752ms/step\n",
            "Epoch 2/25\n",
            "154/154 - 102s - loss: 0.3112 - accuracy: 0.8647 - val_loss: 0.3085 - val_accuracy: 0.8694 - 102s/epoch - 663ms/step\n",
            "Epoch 3/25\n",
            "154/154 - 105s - loss: 0.2806 - accuracy: 0.8835 - val_loss: 0.3318 - val_accuracy: 0.8571 - 105s/epoch - 679ms/step\n",
            "Epoch 4/25\n",
            "154/154 - 106s - loss: 0.2597 - accuracy: 0.8875 - val_loss: 0.2705 - val_accuracy: 0.8694 - 106s/epoch - 689ms/step\n",
            "Epoch 5/25\n",
            "154/154 - 103s - loss: 0.2512 - accuracy: 0.8973 - val_loss: 0.2421 - val_accuracy: 0.8959 - 103s/epoch - 668ms/step\n",
            "Epoch 6/25\n",
            "154/154 - 102s - loss: 0.2354 - accuracy: 0.9059 - val_loss: 0.2196 - val_accuracy: 0.9061 - 102s/epoch - 660ms/step\n",
            "Epoch 7/25\n",
            "154/154 - 107s - loss: 0.2221 - accuracy: 0.9083 - val_loss: 0.2200 - val_accuracy: 0.9061 - 107s/epoch - 698ms/step\n",
            "Epoch 8/25\n",
            "154/154 - 102s - loss: 0.2203 - accuracy: 0.9132 - val_loss: 0.2351 - val_accuracy: 0.9102 - 102s/epoch - 661ms/step\n",
            "Epoch 9/25\n",
            "154/154 - 105s - loss: 0.2015 - accuracy: 0.9152 - val_loss: 0.1978 - val_accuracy: 0.9143 - 105s/epoch - 680ms/step\n",
            "Epoch 10/25\n",
            "154/154 - 107s - loss: 0.2017 - accuracy: 0.9214 - val_loss: 0.1812 - val_accuracy: 0.9347 - 107s/epoch - 694ms/step\n",
            "Epoch 11/25\n",
            "154/154 - 103s - loss: 0.1888 - accuracy: 0.9254 - val_loss: 0.1796 - val_accuracy: 0.9286 - 103s/epoch - 672ms/step\n",
            "Epoch 12/25\n",
            "154/154 - 102s - loss: 0.1780 - accuracy: 0.9291 - val_loss: 0.1752 - val_accuracy: 0.9306 - 102s/epoch - 662ms/step\n",
            "Epoch 13/25\n",
            "154/154 - 107s - loss: 0.1824 - accuracy: 0.9279 - val_loss: 0.1687 - val_accuracy: 0.9408 - 107s/epoch - 697ms/step\n",
            "Epoch 14/25\n",
            "154/154 - 103s - loss: 0.1685 - accuracy: 0.9364 - val_loss: 0.1766 - val_accuracy: 0.9286 - 103s/epoch - 668ms/step\n",
            "Epoch 15/25\n",
            "154/154 - 105s - loss: 0.1682 - accuracy: 0.9368 - val_loss: 0.1536 - val_accuracy: 0.9469 - 105s/epoch - 684ms/step\n",
            "Epoch 16/25\n",
            "154/154 - 104s - loss: 0.1688 - accuracy: 0.9340 - val_loss: 0.1643 - val_accuracy: 0.9367 - 104s/epoch - 677ms/step\n",
            "Epoch 17/25\n",
            "154/154 - 104s - loss: 0.1639 - accuracy: 0.9381 - val_loss: 0.1581 - val_accuracy: 0.9469 - 104s/epoch - 675ms/step\n",
            "Epoch 18/25\n",
            "154/154 - 104s - loss: 0.1558 - accuracy: 0.9377 - val_loss: 0.1470 - val_accuracy: 0.9469 - 104s/epoch - 675ms/step\n",
            "Epoch 19/25\n",
            "154/154 - 104s - loss: 0.1467 - accuracy: 0.9442 - val_loss: 0.1332 - val_accuracy: 0.9551 - 104s/epoch - 678ms/step\n",
            "Epoch 20/25\n",
            "154/154 - 104s - loss: 0.1502 - accuracy: 0.9405 - val_loss: 0.1487 - val_accuracy: 0.9490 - 104s/epoch - 674ms/step\n",
            "Epoch 21/25\n",
            "154/154 - 104s - loss: 0.1417 - accuracy: 0.9499 - val_loss: 0.1470 - val_accuracy: 0.9429 - 104s/epoch - 674ms/step\n",
            "Epoch 22/25\n",
            "154/154 - 104s - loss: 0.1392 - accuracy: 0.9482 - val_loss: 0.1366 - val_accuracy: 0.9469 - 104s/epoch - 675ms/step\n",
            "Epoch 23/25\n",
            "154/154 - 101s - loss: 0.1384 - accuracy: 0.9495 - val_loss: 0.1268 - val_accuracy: 0.9551 - 101s/epoch - 659ms/step\n",
            "Epoch 24/25\n",
            "154/154 - 107s - loss: 0.1360 - accuracy: 0.9503 - val_loss: 0.1212 - val_accuracy: 0.9592 - 107s/epoch - 696ms/step\n",
            "Epoch 25/25\n",
            "154/154 - 102s - loss: 0.1345 - accuracy: 0.9499 - val_loss: 0.1256 - val_accuracy: 0.9673 - 102s/epoch - 662ms/step\n"
          ]
        }
      ],
      "source": [
        "model_details=model.fit(training_set,batch_size=16, epochs = 25, validation_data=test_set, verbose = 2,steps_per_epoch=len(training_set),validation_steps=len(test_set))"
      ]
    },
    {
      "cell_type": "code",
      "execution_count": null,
      "metadata": {
        "id": "biDQ_TNADdlR"
      },
      "outputs": [],
      "source": [
        "loss = model_details.history['loss']\n",
        "validation_loss = model_details.history['val_loss']"
      ]
    },
    {
      "cell_type": "code",
      "execution_count": null,
      "metadata": {
        "id": "1MriUH2UDdlS"
      },
      "outputs": [],
      "source": [
        "accuracy = model_details.history['accuracy']\n",
        "validation_accuracy = model_details.history['val_accuracy']"
      ]
    },
    {
      "cell_type": "code",
      "execution_count": null,
      "metadata": {
        "id": "cZ2cmd8RDdlS"
      },
      "outputs": [],
      "source": [
        "import matplotlib.pyplot as plt\n",
        "%matplotlib inline"
      ]
    },
    {
      "cell_type": "code",
      "execution_count": null,
      "metadata": {
        "id": "kJhdaIv6DdlT",
        "outputId": "6217f35b-7760-4634-a7db-c070f60e54f1",
        "colab": {
          "base_uri": "https://localhost:8080/",
          "height": 405
        }
      },
      "outputs": [
        {
          "output_type": "execute_result",
          "data": {
            "text/plain": [
              "<matplotlib.legend.Legend at 0x7f86402dcaf0>"
            ]
          },
          "metadata": {},
          "execution_count": 22
        },
        {
          "output_type": "display_data",
          "data": {
            "text/plain": [
              "<Figure size 720x432 with 1 Axes>"
            ],
            "image/png": "[encoded data removed]"
          },
          "metadata": {
            "needs_background": "light"
          }
        }
      ],
      "source": [
        "# plot the training and validation losses\n",
        "epochs = range(1, len(loss)+1)\n",
        "\n",
        "fig1 = plt.figure(figsize=(10,6))\n",
        "plt.plot(epochs,loss,c=\"red\",label=\"Training\")\n",
        "plt.plot(epochs,validation_loss,c=\"blue\",label=\"Validation\")\n",
        "plt.xlabel(\"Epochs\")\n",
        "plt.ylabel(\"Loss\")\n",
        "plt.xticks(epochs)\n",
        "plt.legend()"
      ]
    },
    {
      "cell_type": "code",
      "execution_count": null,
      "metadata": {
        "id": "mS4-3ub8DdlT",
        "outputId": "55f972d9-54bd-40ec-b3cb-9409ca3e7301",
        "colab": {
          "base_uri": "https://localhost:8080/",
          "height": 405
        }
      },
      "outputs": [
        {
          "output_type": "execute_result",
          "data": {
            "text/plain": [
              "<matplotlib.legend.Legend at 0x7f864018a850>"
            ]
          },
          "metadata": {},
          "execution_count": 23
        },
        {
          "output_type": "display_data",
          "data": {
            "text/plain": [
              "<Figure size 720x432 with 1 Axes>"
            ],
            "image/png": "[encoded data removed]"
          },
          "metadata": {
            "needs_background": "light"
          }
        }
      ],
      "source": [
        "# plot the training and validation accuracy\n",
        "epochs = range(1, len(accuracy)+1)\n",
        "\n",
        "fig2 = plt.figure(figsize=(10,6))\n",
        "plt.plot(epochs,accuracy,c=\"red\",label=\"Training\")\n",
        "plt.plot(epochs,validation_accuracy,c=\"blue\",label=\"Validation\")\n",
        "plt.xlabel(\"Epochs\")\n",
        "plt.ylabel(\"Accuracy\")\n",
        "plt.xticks(epochs)\n",
        "plt.legend()"
      ]
    },
    {
      "cell_type": "code",
      "execution_count": null,
      "metadata": {
        "id": "T57-bZGWDdlU",
        "colab": {
          "base_uri": "https://localhost:8080/"
        },
        "outputId": "3c4b02f5-873b-437f-b559-d5b57612acf0"
      },
      "outputs": [
        {
          "output_type": "stream",
          "name": "stderr",
          "text": [
            "WARNING:absl:Found untraced functions such as _jit_compiled_convolution_op, _jit_compiled_convolution_op, _jit_compiled_convolution_op, _jit_compiled_convolution_op, _jit_compiled_convolution_op while saving (showing 5 of 13). These functions will not be directly callable after loading.\n"
          ]
        },
        {
          "output_type": "execute_result",
          "data": {
            "text/plain": [
              "58900372"
            ]
          },
          "metadata": {},
          "execution_count": 24
        }
      ],
      "source": [
        "tf_lite_converter = tf.lite.TFLiteConverter.from_keras_model(model)\n",
        "tflite_model = tf_lite_converter.convert()\n",
        "open(\"vgg16_dump.tflite\", 'wb').write(tflite_model)"
      ]
    }
  ],
  "metadata": {
    "kernelspec": {
      "display_name": "Python 3 (ipykernel)",
      "language": "python",
      "name": "python3"
    },
    "language_info": {
      "codemirror_mode": {
        "name": "ipython",
        "version": 3
      },
      "file_extension": ".py",
      "mimetype": "text/x-python",
      "name": "python",
      "nbconvert_exporter": "python",
      "pygments_lexer": "ipython3",
      "version": "3.9.13"
    },
    "colab": {
      "provenance": []
    },
    "accelerator": "GPU",
    "gpuClass": "standard"
  },
  "nbformat": 4,
  "nbformat_minor": 0
}